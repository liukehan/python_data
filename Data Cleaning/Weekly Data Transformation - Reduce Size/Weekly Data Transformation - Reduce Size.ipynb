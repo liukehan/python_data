{
 "cells": [
  {
   "cell_type": "code",
   "execution_count": 1,
   "metadata": {},
   "outputs": [],
   "source": [
    "import pandas as pd\n",
    "data = pd.read_csv('..\\year_data.csv')"
   ]
  },
  {
   "cell_type": "code",
   "execution_count": 2,
   "metadata": {},
   "outputs": [],
   "source": [
    "#topic list\n",
    "topics = data['topic_name'].unique()"
   ]
  },
  {
   "cell_type": "markdown",
   "metadata": {},
   "source": [
    "# 2018"
   ]
  },
  {
   "cell_type": "code",
   "execution_count": 66,
   "metadata": {},
   "outputs": [],
   "source": [
    "#reshape mean score for each id\n",
    "weeks = data['report_date'].unique()\n",
    "mean_score_w = data2018.groupby(['unique_id', 'firm_name','topic', 'report_date'])['score'].mean().reset_index()\n",
    "for week in weeks:\n",
    "    tem = mean_score_w[mean_score_w['report_date'] == week]\n",
    "    tem.rename(columns = {\"score\": week}, inplace = True)\n",
    "    tem.drop('report_date', axis = 1, inplace = True)\n",
    "    if week == weeks[0]:\n",
    "        data2018_clean = tem\n",
    "    else:\n",
    "        data2018_clean = pd.merge(data2018_clean, tem, how = 'outer', on = ['unique_id','firm_name', 'topic'])\n",
    "data2018_clean.sort_values(by = ['firm_name', 'topic'], inplace = True)\n",
    "data2018_clean.to_csv('..\\Weekly_Score.csv', index = False)"
   ]
  }
 ],
 "metadata": {
  "kernelspec": {
   "display_name": "Python 3",
   "language": "python",
   "name": "python3"
  },
  "language_info": {
   "codemirror_mode": {
    "name": "ipython",
    "version": 3
   },
   "file_extension": ".py",
   "mimetype": "text/x-python",
   "name": "python",
   "nbconvert_exporter": "python",
   "pygments_lexer": "ipython3",
   "version": "3.6.5"
  }
 },
 "nbformat": 4,
 "nbformat_minor": 2
}
