{
 "cells": [
  {
   "cell_type": "code",
   "execution_count": 19,
   "metadata": {},
   "outputs": [],
   "source": [
    "import pandas as pd\n",
    "from warnings import filterwarnings\n",
    "filterwarnings('ignore')"
   ]
  },
  {
   "cell_type": "code",
   "execution_count": null,
   "metadata": {},
   "outputs": [],
   "source": [
    "data =  pd.read_csv('../phone_confidence_score.csv')\n",
    "data.fillna('', inplace = True)"
   ]
  },
  {
   "cell_type": "code",
   "execution_count": null,
   "metadata": {},
   "outputs": [],
   "source": [
    "def phone_carrier(x):\n",
    "    if 'Pacific Bell' in x or 'AT & T' in x or 'Verizon' in x:\n",
    "        return 1\n",
    "    else:\n",
    "        return 0\n",
    "def phone_country(x):\n",
    "    if x == 'US':\n",
    "        return 2\n",
    "    else:\n",
    "        return 0  \n",
    "def phone_is_commercial(x):\n",
    "    if x is False:\n",
    "        return 2\n",
    "    else:\n",
    "        return 0\n",
    "\n",
    "def phone_is_prepaid(x):\n",
    "    if x is False:\n",
    "        return 2\n",
    "    else:\n",
    "        return 0\n",
    "    \n",
    "def phone_is_valid(x):\n",
    "    if x is True:\n",
    "        return 2\n",
    "    else:\n",
    "        return 0\n",
    "    \n",
    "def phone_line_type(x):\n",
    "    if x == 'Mobile':\n",
    "        return 2\n",
    "    else:\n",
    "        return 0\n",
    "\n",
    "def phone_to_address_match(x):\n",
    "    if x == 'Match':\n",
    "        return 5\n",
    "    elif x == 'No match' or x == '':\n",
    "        return 0\n",
    "    else:\n",
    "        return 3\n",
    "    \n",
    "def phone_to_name_match(x):\n",
    "    if x == 'Match':\n",
    "        return 5\n",
    "    elif x == 'No match' or x == '':\n",
    "        return 0\n",
    "    else:\n",
    "        return 3\n",
    "\n",
    "data['confidence_score'] = 0\n",
    "\n",
    "#currently 21 is the perfect score\n",
    "for i in range(len(data)):\n",
    "    #print(i, phone_carrier(data['phone_carrier'][i]))\n",
    "    data['confidence_score'][i]+=phone_carrier(data['phone_carrier'][i])\n",
    "    data['confidence_score'][i]+=phone_is_commercial(data['phone_is_commercial'][i])\n",
    "    data['confidence_score'][i]+=phone_is_prepaid(data['phone_is_prepaid'][i])\n",
    "    data['confidence_score'][i]+=phone_is_valid(data['phone_is_valid'][i])\n",
    "    data['confidence_score'][i]+=phone_line_type(data['phone_line_type'][i]) # too few mobile\n",
    "    data['confidence_score'][i]+=phone_to_address_match(data['phone_to_address_match'][i])\n",
    "    data['confidence_score'][i]+=phone_to_name_match(data['phone_to_name_match'][i])\n",
    "    data['confidence_score'][i]+=phone_country(data['phone_country'][i])\n",
    "\n",
    "data['confidence_score'] = data['confidence_score']/21*100"
   ]
  },
  {
   "cell_type": "code",
   "execution_count": 16,
   "metadata": {},
   "outputs": [
    {
     "data": {
      "text/plain": [
       "0    47.619048\n",
       "1    76.190476\n",
       "2    76.190476\n",
       "3    76.190476\n",
       "4    33.333333\n",
       "Name: confidence_score, dtype: float64"
      ]
     },
     "execution_count": 16,
     "metadata": {},
     "output_type": "execute_result"
    }
   ],
   "source": [
    "data['confidence_score'].head()"
   ]
  }
 ],
 "metadata": {
  "kernelspec": {
   "display_name": "Python 3",
   "language": "python",
   "name": "python3"
  },
  "language_info": {
   "codemirror_mode": {
    "name": "ipython",
    "version": 3
   },
   "file_extension": ".py",
   "mimetype": "text/x-python",
   "name": "python",
   "nbconvert_exporter": "python",
   "pygments_lexer": "ipython3",
   "version": "3.6.5"
  }
 },
 "nbformat": 4,
 "nbformat_minor": 2
}
