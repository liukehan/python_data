{
 "cells": [
  {
   "cell_type": "code",
   "execution_count": 46,
   "metadata": {},
   "outputs": [],
   "source": [
    "import numpy as np\n",
    "from collections import Counter\n",
    "from functools import reduce\n",
    "def load_dataset():\n",
    "    posting_list=[['my','dog','has','flea','problem','help','please'],\\\n",
    "                 ['maybe','not','take','him','to','dog','park','stupid'],\\\n",
    "                 ['my','dalmation','is','so','cute','i','love','him'],\\\n",
    "                 ['stop','posting','stupid','worthless','garbage'],\\\n",
    "                 ['mr','licks','ate','my','steak','how','to','stop','him'],\\\n",
    "                 ['quit','buying','worthless','dog','food','stupid']]\n",
    "    trained_labels=[0,1,0,1,0,1]\n",
    "    return posting_list,trained_labels"
   ]
  },
  {
   "cell_type": "markdown",
   "metadata": {},
   "source": [
    "# Create Vocab Including All the Words"
   ]
  },
  {
   "cell_type": "code",
   "execution_count": 8,
   "metadata": {},
   "outputs": [],
   "source": [
    "def create_vocablist(posting_list): \n",
    "    vocabset = set([])\n",
    "    for document in posting_list:\n",
    "        vocabset = vocabset|set(document) #create set of words (don't create a list then use counter because it would take too much space)\n",
    "    vocab_list = list(vocabset)\n",
    "    return vocab_list"
   ]
  },
  {
   "cell_type": "markdown",
   "metadata": {},
   "source": [
    "# Create a Function to Tell Whether the Word is Found in the Text"
   ]
  },
  {
   "cell_type": "code",
   "execution_count": 36,
   "metadata": {},
   "outputs": [],
   "source": [
    "def word_in_text(text, word):\n",
    "    if word in text:\n",
    "        return 1\n",
    "    else:\n",
    "        return 0 "
   ]
  },
  {
   "cell_type": "markdown",
   "metadata": {},
   "source": [
    "# Calculate Label Prior Probability -- P(Label)"
   ]
  },
  {
   "cell_type": "code",
   "execution_count": 22,
   "metadata": {},
   "outputs": [],
   "source": [
    "def calculate_label_prior_probability(trained_labels):\n",
    "    counter = Counter(trained_labels)\n",
    "    for label in counter.keys():\n",
    "        counter[label] = counter[label]/len(trained_labels)\n",
    "    return counter"
   ]
  },
  {
   "cell_type": "markdown",
   "metadata": {},
   "source": [
    "# Calculate P(Word|Label)"
   ]
  },
  {
   "cell_type": "code",
   "execution_count": 64,
   "metadata": {},
   "outputs": [],
   "source": [
    "def calculate_probability_word_label(posting_list, trained_labels, test_set, smooth = 0.4):\n",
    "    prob_mat = []\n",
    "    for word in test_set:\n",
    "        p_word = [(smooth + sum(word_in_text(posting_list[i], word) for i in range(len(posting_list)) if trained_labels[i] == label))/(Counter(trained_labels)[label] + smooth)  \\\n",
    "                  for label in label_prior_probability.keys()]\n",
    "        prob_mat.append(p_word)\n",
    "    return np.matrix(prob_mat).transpose()"
   ]
  },
  {
   "cell_type": "markdown",
   "metadata": {},
   "source": [
    "# Define Multiply"
   ]
  },
  {
   "cell_type": "code",
   "execution_count": null,
   "metadata": {},
   "outputs": [],
   "source": [
    "def multiply(x, y):\n",
    "    return x * y"
   ]
  },
  {
   "cell_type": "markdown",
   "metadata": {},
   "source": [
    "# Train Naive Bayes"
   ]
  },
  {
   "cell_type": "code",
   "execution_count": 81,
   "metadata": {},
   "outputs": [],
   "source": [
    "test_set=['maybe','not','take','he','to','dog','park','stupid']\n",
    "def train_NB(test_set):\n",
    "    posting_list, trained_labels = load_dataset()[0], load_dataset()[1]\n",
    "    vocab_list = create_vocablist(posting_list)\n",
    "    label_prior_probability = calculate_label_prior_probability(trained_labels)\n",
    "    word_label_probability = calculate_probability_word_label(posting_list, trained_labels, posting_list[0], smooth = 0.4)\n",
    "    label_final_probability = {}\n",
    "    label_num = 0\n",
    "    for label in label_prior_probability.keys():\n",
    "        label_final_probability[label] = label_prior_probability[label] * reduce(multiply, word_label_probability.tolist()[label_num])\n",
    "        label_num += 1\n",
    "    #return sorted(label_final_probability.items(), key=lambda x:x[1], reverse = True)\n",
    "    return {'probability dict': sorted(label_prior_probability.items(), key = lambda x:x[1]), \n",
    "            'label': sorted(label_prior_probability.items(), key = lambda x:x[1])[0][0]}"
   ]
  },
  {
   "cell_type": "code",
   "execution_count": 82,
   "metadata": {},
   "outputs": [
    {
     "name": "stderr",
     "output_type": "stream",
     "text": [
      "/anaconda3/lib/python3.6/site-packages/ipykernel_launcher.py:4: DeprecationWarning: Calling np.sum(generator) is deprecated, and in the future will give a different result. Use np.sum(np.fromiter(generator)) or the python sum builtin instead.\n",
      "  after removing the cwd from sys.path.\n"
     ]
    },
    {
     "data": {
      "text/plain": [
       "{'probability dict': [(0, 0.5), (1, 0.5)], 'label': 0}"
      ]
     },
     "execution_count": 82,
     "metadata": {},
     "output_type": "execute_result"
    }
   ],
   "source": [
    "train_NB(test_set)"
   ]
  }
 ],
 "metadata": {
  "kernelspec": {
   "display_name": "Python 3",
   "language": "python",
   "name": "python3"
  },
  "language_info": {
   "codemirror_mode": {
    "name": "ipython",
    "version": 3
   },
   "file_extension": ".py",
   "mimetype": "text/x-python",
   "name": "python",
   "nbconvert_exporter": "python",
   "pygments_lexer": "ipython3",
   "version": "3.6.5"
  }
 },
 "nbformat": 4,
 "nbformat_minor": 2
}
