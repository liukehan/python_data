{
 "cells": [
  {
   "cell_type": "code",
   "execution_count": 126,
   "metadata": {},
   "outputs": [],
   "source": [
    "import numpy as np\n",
    "import matplotlib.pyplot as plt\n",
    "import pandas as pd\n",
    "import copy"
   ]
  },
  {
   "cell_type": "markdown",
   "metadata": {},
   "source": [
    "# Define Functions"
   ]
  },
  {
   "cell_type": "markdown",
   "metadata": {},
   "source": [
    "Functions need to create:<br>\n",
    "split_by_category()<br>\n",
    "decentralization()<br>\n",
    "calculate_S()<br>\n",
    "invertible()<br>\n",
    "calculate_projection_direction()<br>\n",
    "calculate_projected_values()<br>\n",
    "LDA()"
   ]
  },
  {
   "cell_type": "markdown",
   "metadata": {},
   "source": [
    "## Split Data and Calculate Mean Values of Each Category"
   ]
  },
  {
   "cell_type": "code",
   "execution_count": 129,
   "metadata": {},
   "outputs": [],
   "source": [
    "def split_by_category(data):\n",
    "    dataset = [pd.DataFrame()]*len(data['label'].unique())\n",
    "    for i in range(len(data['label'].unique())):\n",
    "        dataset[i] = data[data['label'] == data['label'].unique()[i]]\n",
    "    return dataset"
   ]
  },
  {
   "cell_type": "markdown",
   "metadata": {},
   "source": [
    "## Decentralization "
   ]
  },
  {
   "cell_type": "code",
   "execution_count": 133,
   "metadata": {},
   "outputs": [],
   "source": [
    "def decentralization(dataset, mean = 'within_class'):\n",
    "    #notice that copy only copies the value in the shallowest level. DF inside list is not copied\n",
    "    decentralized_dataset = copy.deepcopy(dataset)\n",
    "    if mean == 'total_mean':\n",
    "        for data_cat in decentralized_dataset:\n",
    "            for column in [column for column in data_cat.columns if column not in ['num', 'label']]:\n",
    "                data_cat[column] = data_cat[column].apply(lambda x: x - pd.concat(decentralized_dataset).mean()[column])\n",
    "    else:\n",
    "        for data_cat in decentralized_dataset:\n",
    "            for column in [column for column in data.columns if column not in ['num', 'label']]:\n",
    "                data_cat[column] = data_cat[column].apply(lambda x: x - data_cat.mean()[column])  \n",
    "    return decentralized_dataset"
   ]
  },
  {
   "cell_type": "markdown",
   "metadata": {},
   "source": [
    "## Calculate Sw and Sb"
   ]
  },
  {
   "cell_type": "code",
   "execution_count": 14,
   "metadata": {},
   "outputs": [],
   "source": [
    "def calculate_S(dataset):\n",
    "    Sw_list = []\n",
    "    features = [column for column in dataset[0].columns if column not in ['num', 'label']]\n",
    "    for data in dataset:\n",
    "        Sw_list.append(np.dot(data[features].T,data[features]))\n",
    "    prob = [data.shape[0] for data in dataset]\n",
    "    Sw = np.dot(Sw_list, prob)/sum(prob)\n",
    "    return Sw"
   ]
  },
  {
   "cell_type": "markdown",
   "metadata": {},
   "source": [
    "## Calculate det of Sw -- to Decide Invertible or Not"
   ]
  },
  {
   "cell_type": "code",
   "execution_count": 137,
   "metadata": {},
   "outputs": [],
   "source": [
    "def invertible(Sw):\n",
    "    if np.linalg.det(Sw) != 0:\n",
    "        return True\n",
    "    return False"
   ]
  },
  {
   "cell_type": "markdown",
   "metadata": {},
   "source": [
    "## Calculate Eigenvalues -- Which is the Projection Direction"
   ]
  },
  {
   "cell_type": "code",
   "execution_count": 186,
   "metadata": {},
   "outputs": [
    {
     "data": {
      "text/html": [
       "<img src='lda_eigenvalues.png', width=500, height=300>"
      ],
      "text/plain": [
       "<IPython.core.display.HTML object>"
      ]
     },
     "metadata": {},
     "output_type": "display_data"
    }
   ],
   "source": [
    "%%html\n",
    "<img src='lda_eigenvalues.png', width=500, height=300>"
   ]
  },
  {
   "cell_type": "code",
   "execution_count": 158,
   "metadata": {},
   "outputs": [],
   "source": [
    "def calculate_projection_direction(Sw,Sb):\n",
    "    eigenvalues,eigenvectors = np.linalg.eig(np.dot(np.linalg.inv(Sw),Sb))\n",
    "    print('Eigenvalues and Eigenvectors:', eigenvalues,eigenvectors)\n",
    "    b = list(eigenvalues).index(max(eigenvalues))\n",
    "    w = eigenvectors[:,b]\n",
    "    print('Eigenvector with the largest eigenvalues:',W)\n",
    "    return w"
   ]
  },
  {
   "cell_type": "markdown",
   "metadata": {},
   "source": [
    "## Calculated Projected Values"
   ]
  },
  {
   "cell_type": "code",
   "execution_count": 183,
   "metadata": {},
   "outputs": [],
   "source": [
    "def calculate_projected_values(w, x):\n",
    "    return np.dot(w, x)"
   ]
  },
  {
   "cell_type": "markdown",
   "metadata": {},
   "source": [
    "## LDA "
   ]
  },
  {
   "cell_type": "code",
   "execution_count": 184,
   "metadata": {},
   "outputs": [],
   "source": [
    "def LDA(data):\n",
    "    dataset = split_by_category(data)\n",
    "    Sw = calculate_S(decentralization(dataset, mean = 'within_class'))\n",
    "    Sb = calculate_S(decentralization(dataset, mean = 'total_mean'))\n",
    "    if invertible(Sw):\n",
    "        w = calculate_projection_direction(Sw,Sb)\n",
    "        features = [column for column in dataset[0].columns if column not in ['num', 'label']]\n",
    "        data['train'] = data.apply(lambda row: np.array([row[column] for column in features]), axis=1)\n",
    "        data['projected'] = data['train'].apply(lambda x: calculate_projected_values(w, x))\n",
    "        data.drop(columns = ['train'], inplace = True)\n",
    "    else:\n",
    "        print('Sw not invertible')\n",
    "    return data"
   ]
  },
  {
   "cell_type": "markdown",
   "metadata": {},
   "source": [
    "# Sample"
   ]
  },
  {
   "cell_type": "code",
   "execution_count": 185,
   "metadata": {},
   "outputs": [
    {
     "name": "stdout",
     "output_type": "stream",
     "text": [
      "Eigenvalues and Eigenvectors: [3.65289951 1.53568198] [[ 0.55287782  0.04091411]\n",
      " [-0.83326234  0.99916267]]\n",
      "Eigenvector with the largest eigenvalues: [ 0.55287782 -0.83326234]\n"
     ]
    },
    {
     "data": {
      "text/html": [
       "<div>\n",
       "<style scoped>\n",
       "    .dataframe tbody tr th:only-of-type {\n",
       "        vertical-align: middle;\n",
       "    }\n",
       "\n",
       "    .dataframe tbody tr th {\n",
       "        vertical-align: top;\n",
       "    }\n",
       "\n",
       "    .dataframe thead th {\n",
       "        text-align: right;\n",
       "    }\n",
       "</style>\n",
       "<table border=\"1\" class=\"dataframe\">\n",
       "  <thead>\n",
       "    <tr style=\"text-align: right;\">\n",
       "      <th></th>\n",
       "      <th>num</th>\n",
       "      <th>density</th>\n",
       "      <th>sugar</th>\n",
       "      <th>label</th>\n",
       "      <th>projected</th>\n",
       "    </tr>\n",
       "  </thead>\n",
       "  <tbody>\n",
       "    <tr>\n",
       "      <th>0</th>\n",
       "      <td>1</td>\n",
       "      <td>0.697</td>\n",
       "      <td>0.4600</td>\n",
       "      <td>1</td>\n",
       "      <td>0.002055</td>\n",
       "    </tr>\n",
       "    <tr>\n",
       "      <th>1</th>\n",
       "      <td>2</td>\n",
       "      <td>0.774</td>\n",
       "      <td>0.3760</td>\n",
       "      <td>1</td>\n",
       "      <td>0.114621</td>\n",
       "    </tr>\n",
       "    <tr>\n",
       "      <th>2</th>\n",
       "      <td>3</td>\n",
       "      <td>0.634</td>\n",
       "      <td>0.2640</td>\n",
       "      <td>1</td>\n",
       "      <td>0.130543</td>\n",
       "    </tr>\n",
       "    <tr>\n",
       "      <th>3</th>\n",
       "      <td>4</td>\n",
       "      <td>0.608</td>\n",
       "      <td>0.3180</td>\n",
       "      <td>1</td>\n",
       "      <td>0.071172</td>\n",
       "    </tr>\n",
       "    <tr>\n",
       "      <th>4</th>\n",
       "      <td>5</td>\n",
       "      <td>0.556</td>\n",
       "      <td>0.2150</td>\n",
       "      <td>1</td>\n",
       "      <td>0.128249</td>\n",
       "    </tr>\n",
       "    <tr>\n",
       "      <th>5</th>\n",
       "      <td>6</td>\n",
       "      <td>0.403</td>\n",
       "      <td>0.2370</td>\n",
       "      <td>1</td>\n",
       "      <td>0.025327</td>\n",
       "    </tr>\n",
       "    <tr>\n",
       "      <th>6</th>\n",
       "      <td>7</td>\n",
       "      <td>0.481</td>\n",
       "      <td>0.1490</td>\n",
       "      <td>1</td>\n",
       "      <td>0.141778</td>\n",
       "    </tr>\n",
       "    <tr>\n",
       "      <th>7</th>\n",
       "      <td>8</td>\n",
       "      <td>0.437</td>\n",
       "      <td>0.2110</td>\n",
       "      <td>1</td>\n",
       "      <td>0.065789</td>\n",
       "    </tr>\n",
       "    <tr>\n",
       "      <th>8</th>\n",
       "      <td>9</td>\n",
       "      <td>0.666</td>\n",
       "      <td>0.0910</td>\n",
       "      <td>0</td>\n",
       "      <td>0.292390</td>\n",
       "    </tr>\n",
       "    <tr>\n",
       "      <th>9</th>\n",
       "      <td>10</td>\n",
       "      <td>0.243</td>\n",
       "      <td>0.0267</td>\n",
       "      <td>0</td>\n",
       "      <td>0.112101</td>\n",
       "    </tr>\n",
       "    <tr>\n",
       "      <th>10</th>\n",
       "      <td>11</td>\n",
       "      <td>0.245</td>\n",
       "      <td>0.0570</td>\n",
       "      <td>0</td>\n",
       "      <td>0.087959</td>\n",
       "    </tr>\n",
       "    <tr>\n",
       "      <th>11</th>\n",
       "      <td>12</td>\n",
       "      <td>0.343</td>\n",
       "      <td>0.0990</td>\n",
       "      <td>0</td>\n",
       "      <td>0.107144</td>\n",
       "    </tr>\n",
       "    <tr>\n",
       "      <th>12</th>\n",
       "      <td>13</td>\n",
       "      <td>0.639</td>\n",
       "      <td>0.1610</td>\n",
       "      <td>0</td>\n",
       "      <td>0.219134</td>\n",
       "    </tr>\n",
       "    <tr>\n",
       "      <th>13</th>\n",
       "      <td>14</td>\n",
       "      <td>0.657</td>\n",
       "      <td>0.1980</td>\n",
       "      <td>0</td>\n",
       "      <td>0.198255</td>\n",
       "    </tr>\n",
       "    <tr>\n",
       "      <th>14</th>\n",
       "      <td>15</td>\n",
       "      <td>0.360</td>\n",
       "      <td>0.3700</td>\n",
       "      <td>0</td>\n",
       "      <td>-0.109271</td>\n",
       "    </tr>\n",
       "    <tr>\n",
       "      <th>15</th>\n",
       "      <td>16</td>\n",
       "      <td>0.593</td>\n",
       "      <td>0.0420</td>\n",
       "      <td>0</td>\n",
       "      <td>0.292860</td>\n",
       "    </tr>\n",
       "    <tr>\n",
       "      <th>16</th>\n",
       "      <td>17</td>\n",
       "      <td>0.719</td>\n",
       "      <td>0.1030</td>\n",
       "      <td>0</td>\n",
       "      <td>0.311693</td>\n",
       "    </tr>\n",
       "  </tbody>\n",
       "</table>\n",
       "</div>"
      ],
      "text/plain": [
       "    num  density   sugar  label  projected\n",
       "0     1    0.697  0.4600      1   0.002055\n",
       "1     2    0.774  0.3760      1   0.114621\n",
       "2     3    0.634  0.2640      1   0.130543\n",
       "3     4    0.608  0.3180      1   0.071172\n",
       "4     5    0.556  0.2150      1   0.128249\n",
       "5     6    0.403  0.2370      1   0.025327\n",
       "6     7    0.481  0.1490      1   0.141778\n",
       "7     8    0.437  0.2110      1   0.065789\n",
       "8     9    0.666  0.0910      0   0.292390\n",
       "9    10    0.243  0.0267      0   0.112101\n",
       "10   11    0.245  0.0570      0   0.087959\n",
       "11   12    0.343  0.0990      0   0.107144\n",
       "12   13    0.639  0.1610      0   0.219134\n",
       "13   14    0.657  0.1980      0   0.198255\n",
       "14   15    0.360  0.3700      0  -0.109271\n",
       "15   16    0.593  0.0420      0   0.292860\n",
       "16   17    0.719  0.1030      0   0.311693"
      ]
     },
     "execution_count": 185,
     "metadata": {},
     "output_type": "execute_result"
    }
   ],
   "source": [
    "data = pd.read_csv('watermelon.csv')\n",
    "LDA(data)"
   ]
  }
 ],
 "metadata": {
  "kernelspec": {
   "display_name": "Python 3",
   "language": "python",
   "name": "python3"
  },
  "language_info": {
   "codemirror_mode": {
    "name": "ipython",
    "version": 3
   },
   "file_extension": ".py",
   "mimetype": "text/x-python",
   "name": "python",
   "nbconvert_exporter": "python",
   "pygments_lexer": "ipython3",
   "version": "3.6.5"
  }
 },
 "nbformat": 4,
 "nbformat_minor": 2
}
