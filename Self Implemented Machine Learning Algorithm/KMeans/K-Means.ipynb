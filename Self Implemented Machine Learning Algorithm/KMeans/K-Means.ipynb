{
 "cells": [
  {
   "cell_type": "code",
   "execution_count": 19,
   "metadata": {},
   "outputs": [],
   "source": [
    "import numpy as np\n",
    "import matplotlib.pyplot as plt\n",
    "import pandas as pd\n",
    "import random"
   ]
  },
  {
   "cell_type": "markdown",
   "metadata": {},
   "source": [
    "# Define Help Functions"
   ]
  },
  {
   "cell_type": "code",
   "execution_count": 56,
   "metadata": {},
   "outputs": [],
   "source": [
    "# euclidean distance\n",
    "def euclidean_distance(x,y):\n",
    "    return np.sqrt(np.sum((x-y)**2)) \n",
    "\n",
    "# clustering center initialization\n",
    "def random_centroids(dataset,k):\n",
    "    m = dataset.shape[0]\n",
    "    index = random.sample(list(dataset.index), k)\n",
    "    centroids = dataset.iloc[index,:].reset_index(drop = True)\n",
    "    return centroids"
   ]
  },
  {
   "cell_type": "markdown",
   "metadata": {},
   "source": [
    "# Define K-Means"
   ]
  },
  {
   "cell_type": "code",
   "execution_count": 74,
   "metadata": {},
   "outputs": [],
   "source": [
    "def KMeans(dataset, k, iteration = 20):\n",
    "\n",
    "    m = np.shape(dataset)[0]\n",
    "    cluster_distance = np.mat(np.zeros((m,2)))\n",
    "    iter = 1\n",
    "\n",
    "    # step 1: initialize centroids\n",
    "    centroids = random_centroids(dataset,k)\n",
    "    while iter <= iteration:\n",
    "        #cluster_change = False\n",
    "        print(iter, centroids)\n",
    "        for sample in range(m):\n",
    "            #set a big enough distance\n",
    "            min_dist = 100000.0\n",
    "            min_index = -1\n",
    "\n",
    "            #step 2: find the closest centroid\n",
    "            for centroid_num in range(k):\n",
    "                distance = euclidean_distance(centroids.iloc[centroid_num,:],dataset.iloc[sample,:])\n",
    "                if distance < min_dist:\n",
    "                    min_dist = distance\n",
    "                    min_index = centroid_num\n",
    "                    \n",
    "            # step 3: update cluster distance matrix\n",
    "            if cluster_distance[sample ,0] != min_index: #\n",
    "                cluster_change = True\n",
    "            cluster_distance[sample, :] = min_index, min_dist**2\n",
    "                \n",
    "        #step 4: update centroids\n",
    "        for cluster_num in range(k):\n",
    "            #get all the samples in the same cluster\n",
    "            samples_in_cluster = dataset.iloc[np.nonzero(cluster_distance[:,0].A == cluster_num)[0],:]\n",
    "            #if centroids are at the centers of clusters, end loop\n",
    "            if list(centroids.iloc[cluster_num,:]) == list(np.mean(samples_in_cluster, axis=0)):\n",
    "                print('Get best clusters in iteration ' + str(iter) + ', end clustering.')\n",
    "                return centroids, cluster_distance\n",
    "            #calculate new centroid -- using clusters' avg\n",
    "            centroids.iloc[cluster_num,:] = np.mean(samples_in_cluster, axis=0) \n",
    "        iter += 1\n",
    "        \n",
    "    print(\"Clustering complete!\")\n",
    "    return centroids, cluster_distance"
   ]
  },
  {
   "cell_type": "code",
   "execution_count": 98,
   "metadata": {},
   "outputs": [],
   "source": [
    "def show_cluster(dataset, k, centroids, cluster_distance):\n",
    "    m,n = dataset.shape\n",
    "    if n != 2:\n",
    "        print(\"Not two dimensional data\")\n",
    "        return 1\n",
    "\n",
    "    #set marks for 10 clusters\n",
    "    mark = ['or', 'ob', 'og', 'ok', '^r', '+r', 'sr', 'dr', '<r', 'pr']\n",
    "    if k > len(mark):\n",
    "        print(\"Number of clusters bigger than the max number set\")\n",
    "        return 1\n",
    "\n",
    "    # plot samples\n",
    "    for i in range(m):\n",
    "        markIndex = int(cluster_distance[i,0])\n",
    "        plt.plot(dataset.iloc[i,0],dataset.iloc[i,1], mark[markIndex])\n",
    "\n",
    "    mark = ['Dr', 'Db', 'Dg', 'Dk', '^b', '+b', 'sb', 'db', '<b', 'pb']\n",
    "    \n",
    "    # plot centroids\n",
    "    for i in range(k):\n",
    "        plt.plot(centroids.iloc[i,0],centroids.iloc[i,1],mark[i])\n",
    "\n",
    "    plt.show()\n"
   ]
  },
  {
   "cell_type": "code",
   "execution_count": 99,
   "metadata": {},
   "outputs": [
    {
     "name": "stdout",
     "output_type": "stream",
     "text": [
      "1    density   sugar\n",
      "0    0.243  0.0267\n",
      "1    0.697  0.4600\n",
      "2    0.593  0.0420\n",
      "2    density     sugar\n",
      "0   0.3085  0.104925\n",
      "1   0.6146  0.357600\n",
      "2   0.5935  0.146250\n",
      "Get best clusters in iteration 2, end clustering.\n"
     ]
    },
    {
     "data": {
      "image/png": "[encoded data removed]",
      "text/plain": [
       "<Figure size 432x288 with 1 Axes>"
      ]
     },
     "metadata": {},
     "output_type": "display_data"
    }
   ],
   "source": [
    "data = pd.read_csv('watermelon.csv')\n",
    "data = data[[column for column in data.columns if column not in ['label', 'num']]]\n",
    "#set k, max iterations\n",
    "k = 3\n",
    "iteration = 10\n",
    "centroids, cluster_distance = KMeans(data, k, iteration)\n",
    "show_cluster(data, k, centroids, cluster_distance)"
   ]
  }
 ],
 "metadata": {
  "kernelspec": {
   "display_name": "Python 3",
   "language": "python",
   "name": "python3"
  },
  "language_info": {
   "codemirror_mode": {
    "name": "ipython",
    "version": 3
   },
   "file_extension": ".py",
   "mimetype": "text/x-python",
   "name": "python",
   "nbconvert_exporter": "python",
   "pygments_lexer": "ipython3",
   "version": "3.6.5"
  }
 },
 "nbformat": 4,
 "nbformat_minor": 2
}
