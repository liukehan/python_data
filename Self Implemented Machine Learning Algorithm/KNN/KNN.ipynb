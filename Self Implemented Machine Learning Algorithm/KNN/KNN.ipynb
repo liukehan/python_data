{
 "cells": [
  {
   "cell_type": "code",
   "execution_count": 30,
   "metadata": {},
   "outputs": [],
   "source": [
    "import numpy as np\n",
    "from collections import Counter\n",
    "import pandas as pd\n",
    "class KNNClassifier:\n",
    "    def __init__(self,k):\n",
    "        assert k >= 1,'k must be valid'\n",
    "        self.k = k\n",
    "        self.train_data = None\n",
    "        self.train_label = None\n",
    "    \n",
    "    #fit train data\n",
    "    def get_train_data(self,train_data, train_label):\n",
    "        self.train_data = train_data\n",
    "        self.train_label = train_label\n",
    "        return self\n",
    "\n",
    "    def predict(self,x):\n",
    "        distance = [np.sqrt(np.sum((x_train-x)**2)) for x_train in self.train_data]\n",
    "        nearest = np.argsort(distance) #sort distance\n",
    "        #select nearest neighbors\n",
    "        top_k = [self.train_label[i] for i in nearest[:self.k]]\n",
    "        votes = Counter(top_k)\n",
    "        return votes.most_common(1)[0][0] #most_common(n) is the most frequent n counts\n"
   ]
  },
  {
   "cell_type": "code",
   "execution_count": 38,
   "metadata": {},
   "outputs": [
    {
     "data": {
      "text/plain": [
       "1"
      ]
     },
     "execution_count": 38,
     "metadata": {},
     "output_type": "execute_result"
    }
   ],
   "source": [
    "data = pd.read_csv('watermelon.csv')\n",
    "knn = KNNClassifier(3)\n",
    "knn.get_train_data(np.array(data[['density', 'sugar', 'label']])[1:10], np.array(data['label'])[1:10])\n",
    "knn.predict(np.array(data[['density', 'sugar', 'label']])[0])"
   ]
  }
 ],
 "metadata": {
  "kernelspec": {
   "display_name": "Python 3",
   "language": "python",
   "name": "python3"
  },
  "language_info": {
   "codemirror_mode": {
    "name": "ipython",
    "version": 3
   },
   "file_extension": ".py",
   "mimetype": "text/x-python",
   "name": "python",
   "nbconvert_exporter": "python",
   "pygments_lexer": "ipython3",
   "version": "3.6.5"
  }
 },
 "nbformat": 4,
 "nbformat_minor": 2
}
