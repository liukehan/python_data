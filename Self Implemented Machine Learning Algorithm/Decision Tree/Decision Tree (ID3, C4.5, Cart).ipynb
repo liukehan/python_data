{
 "cells": [
  {
   "cell_type": "code",
   "execution_count": 1,
   "metadata": {
    "collapsed": false
   },
   "outputs": [],
   "source": [
    "import pandas as pd\n",
    "from math import log\n",
    "import operator\n",
    "from collections import Counter"
   ]
  },
  {
   "cell_type": "code",
   "execution_count": 2,
   "metadata": {
    "collapsed": false
   },
   "outputs": [
    {
     "data": {
      "text/html": [
       "<div>\n",
       "<table border=\"1\" class=\"dataframe\">\n",
       "  <thead>\n",
       "    <tr style=\"text-align: right;\">\n",
       "      <th></th>\n",
       "      <th>hair</th>\n",
       "      <th>voice</th>\n",
       "      <th>label</th>\n",
       "      <th>height</th>\n",
       "    </tr>\n",
       "  </thead>\n",
       "  <tbody>\n",
       "    <tr>\n",
       "      <th>0</th>\n",
       "      <td>long</td>\n",
       "      <td>thick</td>\n",
       "      <td>male</td>\n",
       "      <td>1.7</td>\n",
       "    </tr>\n",
       "    <tr>\n",
       "      <th>1</th>\n",
       "      <td>short</td>\n",
       "      <td>thick</td>\n",
       "      <td>male</td>\n",
       "      <td>1.7</td>\n",
       "    </tr>\n",
       "    <tr>\n",
       "      <th>2</th>\n",
       "      <td>short</td>\n",
       "      <td>thick</td>\n",
       "      <td>male</td>\n",
       "      <td>1.7</td>\n",
       "    </tr>\n",
       "    <tr>\n",
       "      <th>3</th>\n",
       "      <td>long</td>\n",
       "      <td>thin</td>\n",
       "      <td>female</td>\n",
       "      <td>1.6</td>\n",
       "    </tr>\n",
       "    <tr>\n",
       "      <th>4</th>\n",
       "      <td>short</td>\n",
       "      <td>thin</td>\n",
       "      <td>female</td>\n",
       "      <td>1.6</td>\n",
       "    </tr>\n",
       "    <tr>\n",
       "      <th>5</th>\n",
       "      <td>short</td>\n",
       "      <td>thick</td>\n",
       "      <td>female</td>\n",
       "      <td>1.6</td>\n",
       "    </tr>\n",
       "    <tr>\n",
       "      <th>6</th>\n",
       "      <td>long</td>\n",
       "      <td>thick</td>\n",
       "      <td>female</td>\n",
       "      <td>1.6</td>\n",
       "    </tr>\n",
       "    <tr>\n",
       "      <th>7</th>\n",
       "      <td>long</td>\n",
       "      <td>thick</td>\n",
       "      <td>female</td>\n",
       "      <td>1.7</td>\n",
       "    </tr>\n",
       "  </tbody>\n",
       "</table>\n",
       "</div>"
      ],
      "text/plain": [
       "    hair  voice   label  height\n",
       "0   long  thick    male     1.7\n",
       "1  short  thick    male     1.7\n",
       "2  short  thick    male     1.7\n",
       "3   long   thin  female     1.6\n",
       "4  short   thin  female     1.6\n",
       "5  short  thick  female     1.6\n",
       "6   long  thick  female     1.6\n",
       "7   long  thick  female     1.7"
      ]
     },
     "execution_count": 2,
     "metadata": {},
     "output_type": "execute_result"
    }
   ],
   "source": [
    "data = pd.read_csv('../decision_tree_data.csv')\n",
    "data"
   ]
  },
  {
   "cell_type": "markdown",
   "metadata": {},
   "source": [
    "# Define Functions Calculating Entropy and Gini"
   ]
  },
  {
   "cell_type": "code",
   "execution_count": 3,
   "metadata": {
    "collapsed": false
   },
   "outputs": [],
   "source": [
    "def calc_entropy(data):  \n",
    "    num_entries = len(data) \n",
    "    label_counts = data['label'].value_counts()\n",
    "    ent=0\n",
    "    for key in label_counts.keys():\n",
    "        prob = float(label_counts[key])/num_entries \n",
    "        ent -= prob*log(prob,2) # sum up all the entropy\n",
    "    return ent\n",
    "\n",
    "def calc_gini(data):\n",
    "    num_entries = len(data)  \n",
    "    label_counts = data['label'].value_counts()\n",
    "    gini = 1\n",
    "    for key in label_counts.keys():\n",
    "        prob = float(label_counts[key])/num_entries \n",
    "        gini -= prob*prob \n",
    "    return gini"
   ]
  },
  {
   "cell_type": "markdown",
   "metadata": {},
   "source": [
    "# Define Splitting Data Function"
   ]
  },
  {
   "cell_type": "code",
   "execution_count": 4,
   "metadata": {
    "collapsed": true
   },
   "outputs": [],
   "source": [
    "def splitdata(data, feature, value): # split by one value of one feature\n",
    "    qualified_data = data[data[feature] == value]\n",
    "    return qualified_data"
   ]
  },
  {
   "cell_type": "markdown",
   "metadata": {},
   "source": [
    "# Define Diffenrent Ways to Identify the Best Features"
   ]
  },
  {
   "cell_type": "code",
   "execution_count": 5,
   "metadata": {
    "collapsed": false
   },
   "outputs": [],
   "source": [
    "# split based on information gain -- ID3\n",
    "def split_ig(data):  \n",
    "    base_entropy = calc_entropy(data)  \n",
    "    best_ig = 0\n",
    "    best_feature = -1\n",
    "    \n",
    "    features = [feature for feature in data.columns if 'label' != feature]\n",
    "    for feature in features:\n",
    "        unique_values = data[feature].unique()\n",
    "        new_ent = 0\n",
    "        for value in unique_values:\n",
    "            subdata = splitdata(data,feature,value)\n",
    "            prob =len(subdata)/float(len(data))\n",
    "            new_ent += prob*calc_entropy(subdata)  \n",
    "        info_gain = base_entropy - new_ent  \n",
    "        if (info_gain>best_ig):   # choose the best feature to split\n",
    "            best_ig=info_gain\n",
    "            best_feature = feature\n",
    "            \n",
    "    return best_feature\n",
    "\n",
    "#split based on information gain -- C4.5\n",
    "def split_igratio(data): \n",
    "    base_entropy = calc_entropy(data) \n",
    "    best_ig_ratio = 0\n",
    "    best_feature = -1\n",
    "    \n",
    "    features = [feature for feature in data.columns if 'label' != feature]\n",
    "    for feature in features:\n",
    "        unique_values = data[feature].unique()\n",
    "        new_ent = 0\n",
    "        for value in unique_values:\n",
    "            subdata = splitdata(data,feature,value)\n",
    "            prob =len(subdata)/float(len(data))\n",
    "            new_ent += prob*calc_entropy(subdata)  \n",
    "        info_gain_ratio = (base_entropy - new_ent)/new_ent \n",
    "        if (info_gain_ratio>best_ig_ratio):  \n",
    "            best_ig_ratio=info_gain_ratio\n",
    "            best_feature = feature\n",
    "            \n",
    "    return best_feature\n",
    "\n",
    "#split based on Gini -- Cart\n",
    "def split_gini(data):\n",
    "    bestgini = 1\n",
    "    best_feature = -1\n",
    "    \n",
    "    features = [feature for feature in data.columns if 'label' != feature]\n",
    "    for feature in features:\n",
    "        unique_values = data[feature].unique()\n",
    "        new_gini = 0\n",
    "        for value in unique_values:\n",
    "            subdata = splitdata(data,feature,value)\n",
    "            prob = len(subdata)/float(len(data))\n",
    "            new_gini += prob*calc_gini(subdata)  \n",
    "        if (new_gini < bestgini):  \n",
    "            bestgini = new_gini\n",
    "            best_feature = feature\n",
    "            \n",
    "    return best_feature"
   ]
  },
  {
   "cell_type": "markdown",
   "metadata": {},
   "source": [
    "# Define Majority Vote"
   ]
  },
  {
   "cell_type": "code",
   "execution_count": 6,
   "metadata": {
    "collapsed": false
   },
   "outputs": [],
   "source": [
    "def majority_vote(data):    \n",
    "    class_count = data['label'].value_counts()\n",
    "    a = sorted(class_count.items(),key = lambda x:x[1],reverse = True)\n",
    "    return a[0][0]"
   ]
  },
  {
   "cell_type": "markdown",
   "metadata": {},
   "source": [
    "# Define Create Tree and Classify Function"
   ]
  },
  {
   "cell_type": "code",
   "execution_count": 7,
   "metadata": {
    "collapsed": false
   },
   "outputs": [],
   "source": [
    "def create_tree(data, split_method = 'ig'): # split_method -- default is information gain\n",
    "    \n",
    "    #if no label\n",
    "    if 'label' not in data.columns:\n",
    "        print('No label provided for training')\n",
    "        return 'no label'\n",
    "    \n",
    "    #if only one class, return that class\n",
    "    if len(data['label'].unique()) == 1:\n",
    "        return data['label'].unique()[0]\n",
    "    \n",
    "    #if no feature data or feature data is not able to be split, return majority of the class\n",
    "    if len(data.columns) == 1 or len(data[[feature for feature in data.columns if feature != 'label']].drop_duplicates()) == 1:\n",
    "        return majority_vote(data)\n",
    "    \n",
    "    if split_method == 'gini':\n",
    "        best_feature = split_gini(data) \n",
    "    elif split_method == 'igratio':\n",
    "        best_feature = split_igratio(data)\n",
    "    else:\n",
    "        best_feature = split_ig(data)\n",
    "        \n",
    "    left_feature = [feature for feature in data.columns if feature != best_feature]\n",
    "    important_features.append(best_feature)\n",
    "    #find possible values for current best feature\n",
    "    bestFeatLabel = data[best_feature].unique()\n",
    "    \n",
    "    #create tree\n",
    "    myTree={best_feature:{}}\n",
    "\n",
    "    for value in bestFeatLabel:\n",
    "        current_data = splitdata(data, best_feature, value)[left_feature]\n",
    "        myTree[best_feature][value]=create_tree(current_data)\n",
    "        \n",
    "    return myTree"
   ]
  },
  {
   "cell_type": "code",
   "execution_count": 8,
   "metadata": {
    "collapsed": false
   },
   "outputs": [],
   "source": [
    "def classify(data, tree, important_features, predicted_column):\n",
    "    data[predicted_column] = ''\n",
    "    for id in data.index:\n",
    "        cur_tree = tree\n",
    "        for feature in important_features:\n",
    "            value = cur_tree[feature][data[feature][id]]\n",
    "            if type(value) is str:\n",
    "                data[predicted_column][id] = value\n",
    "                break\n",
    "            else:\n",
    "                cur_tree = value\n",
    "    return data"
   ]
  },
  {
   "cell_type": "markdown",
   "metadata": {},
   "source": [
    "# Example"
   ]
  },
  {
   "cell_type": "code",
   "execution_count": 9,
   "metadata": {
    "collapsed": false
   },
   "outputs": [],
   "source": [
    "#create a list to note down features based on the order of importance\n",
    "important_features = []\n",
    "tree = create_tree(data)"
   ]
  },
  {
   "cell_type": "code",
   "execution_count": 10,
   "metadata": {
    "collapsed": false
   },
   "outputs": [
    {
     "name": "stderr",
     "output_type": "stream",
     "text": [
      "/Users/kehanliu/anaconda/lib/python3.6/site-packages/ipykernel/__main__.py:8: SettingWithCopyWarning: \n",
      "A value is trying to be set on a copy of a slice from a DataFrame\n",
      "\n",
      "See the caveats in the documentation: http://pandas.pydata.org/pandas-docs/stable/indexing.html#indexing-view-versus-copy\n"
     ]
    },
    {
     "data": {
      "text/html": [
       "<div>\n",
       "<table border=\"1\" class=\"dataframe\">\n",
       "  <thead>\n",
       "    <tr style=\"text-align: right;\">\n",
       "      <th></th>\n",
       "      <th>hair</th>\n",
       "      <th>voice</th>\n",
       "      <th>label</th>\n",
       "      <th>height</th>\n",
       "      <th>igratio_predicted</th>\n",
       "    </tr>\n",
       "  </thead>\n",
       "  <tbody>\n",
       "    <tr>\n",
       "      <th>0</th>\n",
       "      <td>long</td>\n",
       "      <td>thick</td>\n",
       "      <td>male</td>\n",
       "      <td>1.7</td>\n",
       "      <td>male</td>\n",
       "    </tr>\n",
       "    <tr>\n",
       "      <th>1</th>\n",
       "      <td>short</td>\n",
       "      <td>thick</td>\n",
       "      <td>male</td>\n",
       "      <td>1.7</td>\n",
       "      <td>male</td>\n",
       "    </tr>\n",
       "    <tr>\n",
       "      <th>2</th>\n",
       "      <td>short</td>\n",
       "      <td>thick</td>\n",
       "      <td>male</td>\n",
       "      <td>1.7</td>\n",
       "      <td>male</td>\n",
       "    </tr>\n",
       "    <tr>\n",
       "      <th>3</th>\n",
       "      <td>long</td>\n",
       "      <td>thin</td>\n",
       "      <td>female</td>\n",
       "      <td>1.6</td>\n",
       "      <td>female</td>\n",
       "    </tr>\n",
       "    <tr>\n",
       "      <th>4</th>\n",
       "      <td>short</td>\n",
       "      <td>thin</td>\n",
       "      <td>female</td>\n",
       "      <td>1.6</td>\n",
       "      <td>female</td>\n",
       "    </tr>\n",
       "    <tr>\n",
       "      <th>5</th>\n",
       "      <td>short</td>\n",
       "      <td>thick</td>\n",
       "      <td>female</td>\n",
       "      <td>1.6</td>\n",
       "      <td>female</td>\n",
       "    </tr>\n",
       "    <tr>\n",
       "      <th>6</th>\n",
       "      <td>long</td>\n",
       "      <td>thick</td>\n",
       "      <td>female</td>\n",
       "      <td>1.6</td>\n",
       "      <td>female</td>\n",
       "    </tr>\n",
       "    <tr>\n",
       "      <th>7</th>\n",
       "      <td>long</td>\n",
       "      <td>thick</td>\n",
       "      <td>female</td>\n",
       "      <td>1.7</td>\n",
       "      <td>male</td>\n",
       "    </tr>\n",
       "  </tbody>\n",
       "</table>\n",
       "</div>"
      ],
      "text/plain": [
       "    hair  voice   label  height igratio_predicted\n",
       "0   long  thick    male     1.7              male\n",
       "1  short  thick    male     1.7              male\n",
       "2  short  thick    male     1.7              male\n",
       "3   long   thin  female     1.6            female\n",
       "4  short   thin  female     1.6            female\n",
       "5  short  thick  female     1.6            female\n",
       "6   long  thick  female     1.6            female\n",
       "7   long  thick  female     1.7              male"
      ]
     },
     "execution_count": 10,
     "metadata": {},
     "output_type": "execute_result"
    }
   ],
   "source": [
    "classify(data, tree, important_features, 'igratio_predicted')"
   ]
  }
 ],
 "metadata": {
  "kernelspec": {
   "display_name": "Python 3",
   "language": "python",
   "name": "python3"
  },
  "language_info": {
   "codemirror_mode": {
    "name": "ipython",
    "version": 3
   },
   "file_extension": ".py",
   "mimetype": "text/x-python",
   "name": "python",
   "nbconvert_exporter": "python",
   "pygments_lexer": "ipython3",
   "version": "3.6.0"
  }
 },
 "nbformat": 4,
 "nbformat_minor": 2
}
